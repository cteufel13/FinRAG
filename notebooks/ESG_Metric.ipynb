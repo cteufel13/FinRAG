{
 "cells": [
  {
   "cell_type": "markdown",
   "id": "7296e879",
   "metadata": {},
   "source": [
    "# ESG Metric\n",
    "\n",
    "#### Idea: Use RAG Pipeline to extract information from the Document to get a self defined ESG Score \n",
    "\n",
    "### Structure:\n",
    "\n",
    "1. RAG Pipeline Setup\n",
    "2."
   ]
  },
  {
   "cell_type": "code",
   "execution_count": 50,
   "id": "b997ed63",
   "metadata": {},
   "outputs": [],
   "source": [
    "import sys\n",
    "sys.path.append('..')"
   ]
  },
  {
   "cell_type": "markdown",
   "id": "7b767d8f",
   "metadata": {},
   "source": [
    "### Setting up RAG Pipeline\n",
    "\n",
    "The RAG pipeline that was previously looked at was now compacted into the class _RagPipeline_.   \n",
    "It has all the functions that we previously used, take a look at it in **src/common/rag_pipeline.py** !\n",
    "\n",
    "```python \n",
    "class RagPipeline:\n",
    "    def load_pdf(self, pdf_path: str) -> Document:\n",
    "        \"\"\"Load PDF file and return a Document object.\"\"\"\n",
    "\n",
    "    def chunk_text(self, document: Document, chunk_size: int = 1000, chunk_overlap: int = 20) -> list[Document]:\n",
    "        \"\"\"Chunk the text into smaller pieces.\"\"\"\n",
    "\n",
    "    def create_vectordb(self, chunks: list[Document], embedding_model: str = \"sentence-transformers/all-MiniLM-L6-v2\", search_kwargs: dict = None ) -> FAISS:\n",
    "        \"\"\"Create a vector database from the chunks.\"\"\"\n",
    "\n",
    "    def load_llm(self, llm_model: str = \"google/flan-t5-base\", pipeline_type: str = \"text2text-generation\" ) -> HuggingFacePipeline:\n",
    "        \"\"\"Load the LLM model.\"\"\"\n",
    "\n",
    "    def create_qa_chain(self, chain_type=\"stuff\", chain_type_kwargs: dict = {}) -> RetrievalQA:\n",
    "        \"\"\"Create a QA chain.\"\"\"\n",
    "\n",
    "    def run(self, query: str) -> str:\n",
    "        \"\"\"Run the QA chain with a query.\"\"\"\n",
    "\n",
    "\n",
    "def parse_html_table (page_content) -> List[dict]:\n",
    "    \"\"\" Parses a single HTML <table> from the given page_content and returns a list of row-dictionaries. \"\"\"\n",
    "\n",
    "def convert_table_row_to_text(row: str) -> str:\n",
    "    \"\"\"Converts a table row (dict) to a string representation.\"\"\"\n",
    "\n",
    "```\n",
    "\n",
    "\n"
   ]
  },
  {
   "cell_type": "code",
   "execution_count": 51,
   "id": "07bba6d5",
   "metadata": {},
   "outputs": [],
   "source": [
    "from src.common.rag_pipeline import RagPipeline"
   ]
  },
  {
   "cell_type": "code",
   "execution_count": 52,
   "id": "d45eb65d",
   "metadata": {},
   "outputs": [
    {
     "name": "stderr",
     "output_type": "stream",
     "text": [
      "/Users/carloteufel/Documents/Projects/FinRAG/notebooks/../src/utils/utils.py:14: FutureWarning: Passing literal html to 'read_html' is deprecated and will be removed in a future version. To read from a literal string, wrap it in a 'StringIO' object.\n",
      "  dfs = pd.read_html(page_content)\n",
      "/Users/carloteufel/Documents/Projects/FinRAG/notebooks/../src/utils/utils.py:14: FutureWarning: Passing literal html to 'read_html' is deprecated and will be removed in a future version. To read from a literal string, wrap it in a 'StringIO' object.\n",
      "  dfs = pd.read_html(page_content)\n",
      "/Users/carloteufel/Documents/Projects/FinRAG/notebooks/../src/utils/utils.py:14: FutureWarning: Passing literal html to 'read_html' is deprecated and will be removed in a future version. To read from a literal string, wrap it in a 'StringIO' object.\n",
      "  dfs = pd.read_html(page_content)\n",
      "/Users/carloteufel/Documents/Projects/FinRAG/notebooks/../src/utils/utils.py:14: FutureWarning: Passing literal html to 'read_html' is deprecated and will be removed in a future version. To read from a literal string, wrap it in a 'StringIO' object.\n",
      "  dfs = pd.read_html(page_content)\n",
      "/Users/carloteufel/Documents/Projects/FinRAG/notebooks/../src/utils/utils.py:14: FutureWarning: Passing literal html to 'read_html' is deprecated and will be removed in a future version. To read from a literal string, wrap it in a 'StringIO' object.\n",
      "  dfs = pd.read_html(page_content)\n",
      "/Users/carloteufel/Documents/Projects/FinRAG/notebooks/../src/utils/utils.py:14: FutureWarning: Passing literal html to 'read_html' is deprecated and will be removed in a future version. To read from a literal string, wrap it in a 'StringIO' object.\n",
      "  dfs = pd.read_html(page_content)\n",
      "/Users/carloteufel/Documents/Projects/FinRAG/notebooks/../src/utils/utils.py:14: FutureWarning: Passing literal html to 'read_html' is deprecated and will be removed in a future version. To read from a literal string, wrap it in a 'StringIO' object.\n",
      "  dfs = pd.read_html(page_content)\n",
      "/Users/carloteufel/Documents/Projects/FinRAG/notebooks/../src/utils/utils.py:14: FutureWarning: Passing literal html to 'read_html' is deprecated and will be removed in a future version. To read from a literal string, wrap it in a 'StringIO' object.\n",
      "  dfs = pd.read_html(page_content)\n",
      "/Users/carloteufel/Documents/Projects/FinRAG/notebooks/../src/utils/utils.py:14: FutureWarning: Passing literal html to 'read_html' is deprecated and will be removed in a future version. To read from a literal string, wrap it in a 'StringIO' object.\n",
      "  dfs = pd.read_html(page_content)\n",
      "/Users/carloteufel/Documents/Projects/FinRAG/notebooks/../src/utils/utils.py:14: FutureWarning: Passing literal html to 'read_html' is deprecated and will be removed in a future version. To read from a literal string, wrap it in a 'StringIO' object.\n",
      "  dfs = pd.read_html(page_content)\n",
      "/Users/carloteufel/Documents/Projects/FinRAG/notebooks/../src/utils/utils.py:14: FutureWarning: Passing literal html to 'read_html' is deprecated and will be removed in a future version. To read from a literal string, wrap it in a 'StringIO' object.\n",
      "  dfs = pd.read_html(page_content)\n",
      "/Users/carloteufel/Documents/Projects/FinRAG/notebooks/../src/utils/utils.py:14: FutureWarning: Passing literal html to 'read_html' is deprecated and will be removed in a future version. To read from a literal string, wrap it in a 'StringIO' object.\n",
      "  dfs = pd.read_html(page_content)\n",
      "/Users/carloteufel/Documents/Projects/FinRAG/notebooks/../src/utils/utils.py:14: FutureWarning: Passing literal html to 'read_html' is deprecated and will be removed in a future version. To read from a literal string, wrap it in a 'StringIO' object.\n",
      "  dfs = pd.read_html(page_content)\n",
      "/Users/carloteufel/Documents/Projects/FinRAG/notebooks/../src/utils/utils.py:14: FutureWarning: Passing literal html to 'read_html' is deprecated and will be removed in a future version. To read from a literal string, wrap it in a 'StringIO' object.\n",
      "  dfs = pd.read_html(page_content)\n",
      "/Users/carloteufel/Documents/Projects/FinRAG/notebooks/../src/utils/utils.py:14: FutureWarning: Passing literal html to 'read_html' is deprecated and will be removed in a future version. To read from a literal string, wrap it in a 'StringIO' object.\n",
      "  dfs = pd.read_html(page_content)\n",
      "/Users/carloteufel/Documents/Projects/FinRAG/notebooks/../src/utils/utils.py:14: FutureWarning: Passing literal html to 'read_html' is deprecated and will be removed in a future version. To read from a literal string, wrap it in a 'StringIO' object.\n",
      "  dfs = pd.read_html(page_content)\n",
      "/Users/carloteufel/Documents/Projects/FinRAG/notebooks/../src/utils/utils.py:14: FutureWarning: Passing literal html to 'read_html' is deprecated and will be removed in a future version. To read from a literal string, wrap it in a 'StringIO' object.\n",
      "  dfs = pd.read_html(page_content)\n",
      "/Users/carloteufel/Documents/Projects/FinRAG/notebooks/../src/utils/utils.py:14: FutureWarning: Passing literal html to 'read_html' is deprecated and will be removed in a future version. To read from a literal string, wrap it in a 'StringIO' object.\n",
      "  dfs = pd.read_html(page_content)\n",
      "/Users/carloteufel/Documents/Projects/FinRAG/notebooks/../src/utils/utils.py:14: FutureWarning: Passing literal html to 'read_html' is deprecated and will be removed in a future version. To read from a literal string, wrap it in a 'StringIO' object.\n",
      "  dfs = pd.read_html(page_content)\n",
      "/Users/carloteufel/Documents/Projects/FinRAG/notebooks/../src/utils/utils.py:14: FutureWarning: Passing literal html to 'read_html' is deprecated and will be removed in a future version. To read from a literal string, wrap it in a 'StringIO' object.\n",
      "  dfs = pd.read_html(page_content)\n",
      "/Users/carloteufel/Documents/Projects/FinRAG/notebooks/../src/utils/utils.py:14: FutureWarning: Passing literal html to 'read_html' is deprecated and will be removed in a future version. To read from a literal string, wrap it in a 'StringIO' object.\n",
      "  dfs = pd.read_html(page_content)\n",
      "/Users/carloteufel/Documents/Projects/FinRAG/notebooks/../src/utils/utils.py:14: FutureWarning: Passing literal html to 'read_html' is deprecated and will be removed in a future version. To read from a literal string, wrap it in a 'StringIO' object.\n",
      "  dfs = pd.read_html(page_content)\n",
      "/Users/carloteufel/Documents/Projects/FinRAG/notebooks/../src/utils/utils.py:14: FutureWarning: Passing literal html to 'read_html' is deprecated and will be removed in a future version. To read from a literal string, wrap it in a 'StringIO' object.\n",
      "  dfs = pd.read_html(page_content)\n",
      "/Users/carloteufel/Documents/Projects/FinRAG/notebooks/../src/utils/utils.py:14: FutureWarning: Passing literal html to 'read_html' is deprecated and will be removed in a future version. To read from a literal string, wrap it in a 'StringIO' object.\n",
      "  dfs = pd.read_html(page_content)\n",
      "Device set to use mps:0\n"
     ]
    }
   ],
   "source": [
    "rag_pipeline = RagPipeline()\n",
    "data = rag_pipeline.load_pdf(pdf_path='../data/raw/ESG/NVDA.pdf')\n",
    "docs = rag_pipeline.chunk_text(documents=data,chunk_size=1000,chunk_overlap=500)\n",
    "vectordb = rag_pipeline.create_vectordb(chunks=docs,search_kwargs={\"k\" :3},embedding_model='sentence-transformers/all-mpnet-base-v2')\n",
    "llm = rag_pipeline.load_llm( llm_model='google/flan-t5-large')"
   ]
  },
  {
   "cell_type": "markdown",
   "id": "177945d9",
   "metadata": {},
   "source": [
    "### Structured Data Extraction\n",
    "\n",
    "Now that the main pipeline (LLM and VectorDB) is set up we can now formulate the ESG metric and prompt.    \n",
    "The metric can use any of the information that should be found in an ESG report such as CO2 output or similar.\n",
    "\n",
    "Our goal is to extract the information as concise as possible, i.e. a number that we can convert to an int/float and compute the metric with.\n",
    "\n",
    "Experimentation has showed that a query structure like the following had the best results "
   ]
  },
  {
   "cell_type": "markdown",
   "id": "544a272a",
   "metadata": {},
   "source": [
    "#### Prompt:\n",
    "```python\n",
    "query = \"\"\"What {parameter} in {unit}? Return number only.\"\"\"\n",
    "```\n",
    "\n",
    "Interestingly enough adding an _'is'_ after the _'What'_ is already enough to make it a bit more inconsitent. "
   ]
  },
  {
   "cell_type": "markdown",
   "id": "7a1f9553",
   "metadata": {},
   "source": [
    "#### Metric: Environmental Intensity Score (EIS) — 0 to 10\n",
    "\n",
    "**Inputs**  \n",
    "- **CI**: Carbon intensity (tonnes CO₂e per million USD revenue)  \n",
    "- **WI**: Water intensity (m³ per million USD revenue)  \n",
    "- **RR**: Recycling rate (%)\n"
   ]
  },
  {
   "cell_type": "code",
   "execution_count": 53,
   "id": "5cab9a9c",
   "metadata": {},
   "outputs": [],
   "source": [
    "def metric(carbon_intensity,water_intensity,recycling_rate):\n",
    "    \"\"\"\n",
    "    This function calculates the ESG score based on carbon intensity, water intensity, and recycling rate.\n",
    "    The formula used is a simple weighted sum of the three factors.\n",
    "    \"\"\"\n",
    "    score = (0.5 * carbon_intensity) + (0.3 * water_intensity) + (2 * recycling_rate)\n",
    "    return score"
   ]
  },
  {
   "cell_type": "markdown",
   "id": "deb8529e",
   "metadata": {},
   "source": [
    "### Implementation\n",
    "\n",
    "Now that we have a metric and prompt read, we can generate the information using RAG!"
   ]
  },
  {
   "cell_type": "code",
   "execution_count": 54,
   "id": "e25f727d",
   "metadata": {},
   "outputs": [
    {
     "data": {
      "text/plain": [
       "RetrievalQA(verbose=False, combine_documents_chain=StuffDocumentsChain(verbose=False, llm_chain=LLMChain(verbose=False, prompt=PromptTemplate(input_variables=['context', 'question'], input_types={}, partial_variables={}, template=\"Use the following pieces of context to answer the question at the end. If you don't know the answer, just say that you don't know, don't try to make up an answer.\\n\\n{context}\\n\\nQuestion: {question}\\nHelpful Answer:\"), llm=HuggingFacePipeline(pipeline=<transformers.pipelines.text2text_generation.Text2TextGenerationPipeline object at 0x313f21a90>), output_parser=StrOutputParser(), llm_kwargs={}), document_prompt=PromptTemplate(input_variables=['page_content'], input_types={}, partial_variables={}, template='{page_content}'), document_variable_name='context'), return_source_documents=True, retriever=VectorStoreRetriever(tags=['FAISS', 'HuggingFaceEmbeddings'], vectorstore=<langchain_community.vectorstores.faiss.FAISS object at 0x3117f8530>, search_kwargs={'k': 3}))"
      ]
     },
     "execution_count": 54,
     "metadata": {},
     "output_type": "execute_result"
    }
   ],
   "source": [
    "rag_pipeline.create_qa_chain(return_source_documents=True)"
   ]
  },
  {
   "cell_type": "markdown",
   "id": "218d6ae5",
   "metadata": {},
   "source": [
    "#### Example:"
   ]
  },
  {
   "cell_type": "code",
   "execution_count": 55,
   "id": "b86d9e14",
   "metadata": {},
   "outputs": [
    {
     "name": "stdout",
     "output_type": "stream",
     "text": [
      "Answer: 71\n"
     ]
    }
   ],
   "source": [
    "query = \"\"\"What total gross carbon footprint in 2024 in metric tons CO2e? Return number only.\"\"\"\n",
    "answer,_ = rag_pipeline.run({\"query\": query}) # the _ is the source documents\n",
    "print(f\"Answer: {answer}\")"
   ]
  },
  {
   "cell_type": "markdown",
   "id": "0de521b7",
   "metadata": {},
   "source": [
    "#### Pipeline:"
   ]
  },
  {
   "cell_type": "code",
   "execution_count": null,
   "id": "deeeb19a",
   "metadata": {},
   "outputs": [],
   "source": [
    "parameters = [ {'metric' : 'Carbon intensity in 2024',\n",
    "                'unit' : 'metric tons CO2e/million USD revenue'},\n",
    "                {'metric': 'CO2 or carbon emissions in 2024',\n",
    "                'unit': 'metric tons CO2e'},\n",
    "                {'metric': 'water intensity in 2024',\n",
    "                'unit': 'gallons/million USD revenue'},\n",
    "                {'metric': 'water consumption in 2024',\n",
    "                'unit': 'gallons'},\n",
    "                {'metric': 'recycling rate in 2024',\n",
    "                'unit': 'percentage'},\n",
    "                ]"
   ]
  },
  {
   "cell_type": "code",
   "execution_count": 70,
   "id": "4aa58aed",
   "metadata": {},
   "outputs": [
    {
     "name": "stdout",
     "output_type": "stream",
     "text": [
      "{Metric is Energy intensity (Energy used MWh/$M revenue), FY24 is 10.1, FY23 is 18.4, FY22 is 15.8, Reference Indicator is GRI 302-3}\n",
      "{Metric is Reduction of GHG emissions, FY24 is 2023 CDP Climate Change, FY23 is Response, pp. 29-46, 71, FY22 is , Reference Indicator is SASB TC-SC-110a.2}\n",
      "{Product Energy Efficiency is Greenhouse Gas Emissions, 10 is }\n",
      "{Metric is Water consumption, FY24 is 134219, FY23 is 197849, FY22 is 239780, Reference Indicator is GRI 303-5}\n",
      "{Metric is Water consumption, FY24 is , FY23 is , FY22 is , Reference Indicator is SASB TC-SC-140a.1}\n",
      "{Metric is Interactions with water as a shared resource, FY24 is Water Conservation, FY23 is , FY22 is , Reference Indicator is GRI 303-1}\n",
      "{Metric is Landfill diversion rate (%), FY24 is 71%, FY23 is 58%, FY22 is 56%, Reference Indicator is GRI 306-4}\n",
      "{Metric is General waste recycled, FY24 is 374, FY23 is 295, FY22 is 127, Reference Indicator is }\n",
      "{Metric is Category 5 is Waste generated in operations?, FY24 is 617, FY23 is 579, FY22 is 291, Reference Indicator is }\n"
     ]
    }
   ],
   "source": [
    "output = {}\n",
    "\n",
    "for parameter in parameters:\n",
    "    query = f\"\"\"What is the {parameter['metric']} in {parameter['unit']}? Return number only.If you cannot find a value, return NaN.\"\"\"\n",
    "    answer, context = rag_pipeline.run({\"query\": query}) # the _ is the source documents\n",
    "    for doc in context:\n",
    "        print(doc.page_content)\n",
    "    output[parameter['metric']] = answer\n"
   ]
  },
  {
   "cell_type": "markdown",
   "id": "7e568347",
   "metadata": {},
   "source": [
    "### Postprocessing\n",
    "\n",
    "Cleaning the outputs to be numbers so that we can do math with them"
   ]
  },
  {
   "cell_type": "code",
   "execution_count": 64,
   "id": "6ff5caaf",
   "metadata": {},
   "outputs": [],
   "source": [
    "from src.utils.utils import convert_strings_to_floats"
   ]
  },
  {
   "cell_type": "code",
   "execution_count": 65,
   "id": "e6f162f6",
   "metadata": {},
   "outputs": [],
   "source": [
    "output = list(output.values())\n",
    "output = convert_strings_to_floats(output)"
   ]
  },
  {
   "cell_type": "code",
   "execution_count": 66,
   "id": "73f089ef",
   "metadata": {},
   "outputs": [
    {
     "data": {
      "text/plain": [
       "[10.1, 134219.0, 0.71]"
      ]
     },
     "execution_count": 66,
     "metadata": {},
     "output_type": "execute_result"
    }
   ],
   "source": [
    "output"
   ]
  },
  {
   "cell_type": "code",
   "execution_count": 67,
   "id": "b5e617d8",
   "metadata": {},
   "outputs": [],
   "source": [
    "metric_score = metric(output[0], output[1], output[2])"
   ]
  },
  {
   "cell_type": "code",
   "execution_count": 68,
   "id": "721b7675",
   "metadata": {},
   "outputs": [
    {
     "name": "stdout",
     "output_type": "stream",
     "text": [
      "metric_score: 40272.17\n"
     ]
    }
   ],
   "source": [
    "print('metric_score:', metric_score)"
   ]
  },
  {
   "cell_type": "code",
   "execution_count": null,
   "id": "47d40fff",
   "metadata": {},
   "outputs": [],
   "source": []
  }
 ],
 "metadata": {
  "language_info": {
   "name": "python"
  }
 },
 "nbformat": 4,
 "nbformat_minor": 5
}
