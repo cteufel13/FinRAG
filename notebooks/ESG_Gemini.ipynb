{
 "cells": [
  {
   "cell_type": "markdown",
   "id": "ab03f5fe",
   "metadata": {},
   "source": [
    "# ESG Metric Extraction\n",
    "\n",
    "## Structure\n",
    "\n",
    "### 1. AAPL\n",
    "\n",
    "1.1 Imports    \n",
    "1.2 Data Extraction      \n",
    "1.3 Prompt Definition     \n",
    "1.4 Response Retrieval     \n",
    "\n",
    "### 2. Pipeline \n",
    "2.1 Using all PDFs     \n",
    "2.2 Metric      \n",
    "2.3 LLM Approach      \n"
   ]
  },
  {
   "cell_type": "markdown",
   "id": "c132f862",
   "metadata": {},
   "source": [
    "## 1.AAPL"
   ]
  },
  {
   "cell_type": "markdown",
   "id": "f17c232e",
   "metadata": {},
   "source": [
    "### 1.1 Imports:\n",
    "\n",
    "_from google import genai_:    \n",
    "For this we are going to use Google's Gemini as our LLM for the heavy lifting.    \n",
    "\n",
    "_from langchain.prompts import PromptTemplate_:   \n",
    "We once again use langchain and its prompt template to make an instruction set for the LLM \n",
    "\n",
    "_import fitz_:    \n",
    "For the document instruction we use the PyMuPDF also know as fitz. It will do most of the preprocessing from pdf loading to text extraction.\n",
    "\n"
   ]
  },
  {
   "cell_type": "code",
   "execution_count": 1,
   "id": "f89a2652",
   "metadata": {},
   "outputs": [],
   "source": [
    "import os\n",
    "import sys\n",
    "sys.path.append('..')\n",
    "\n",
    "from google import genai\n",
    "from langchain.prompts import PromptTemplate\n",
    "import fitz  # PyMuPDF\n"
   ]
  },
  {
   "cell_type": "markdown",
   "id": "e32639bf",
   "metadata": {},
   "source": [
    "#### File path:\n",
    "Currently in this repository it is find in _data/raw/ESG_ folder"
   ]
  },
  {
   "cell_type": "code",
   "execution_count": 2,
   "id": "455ea85c",
   "metadata": {},
   "outputs": [],
   "source": [
    "ticker_name = 'AAPL'\n",
    "file_path = f'../data/raw/ESG/{ticker_name}.pdf'"
   ]
  },
  {
   "cell_type": "markdown",
   "id": "bf4231f0",
   "metadata": {},
   "source": [
    "### 1.2 Data Extraction\n",
    "\n",
    "This function extracts the text from the pdf file. It filters the document for header and footers to not use any uncessary tokens on the LLM. "
   ]
  },
  {
   "cell_type": "code",
   "execution_count": 3,
   "id": "2a5c32b4",
   "metadata": {},
   "outputs": [],
   "source": [
    "def extract_pdf_text(doc_path, margin_height=50):\n",
    "    doc = fitz.open(doc_path)\n",
    "    all_text = []\n",
    "\n",
    "    for page in doc:\n",
    "        page_height = page.rect.height\n",
    "        blocks = page.get_text(\"dict\")[\"blocks\"]\n",
    "\n",
    "        for block in blocks:\n",
    "            if \"lines\" not in block:\n",
    "                continue\n",
    "            for line in block[\"lines\"]:\n",
    "                for span in line[\"spans\"]:\n",
    "                    text = span[\"text\"].strip()\n",
    "                    y0, y1 = span[\"bbox\"][1], span[\"bbox\"][3]\n",
    "\n",
    "                    # Skip if within header/footer margin\n",
    "                    if y1 < margin_height or y0 > (page_height - margin_height):\n",
    "                        continue\n",
    "\n",
    "                    all_text.append(text)\n",
    "\n",
    "    return \"\\n\".join(all_text)\n",
    "\n",
    "pdf_text = extract_pdf_text(file_path)"
   ]
  },
  {
   "cell_type": "markdown",
   "id": "115900e9",
   "metadata": {},
   "source": [
    "### 1.3 Prompt Definition.\n",
    "With larger Models like Gemini and ChatGPT, the prompt has a siginificant impact on the output. \n",
    "These prompts are highly configurable and designable to your goals.\n",
    "\n",
    "In this case we want the model to pull all the data that may in any way be a metric related to ESG from the document.    \n",
    "To measure this we require it to return the unit in ISO format so that the different profiles comparable later on.    \n",
    "Lastly we want it to return it in JSON format so it is easily manipulatable and useful for saving and loading."
   ]
  },
  {
   "cell_type": "code",
   "execution_count": 4,
   "id": "4e092229",
   "metadata": {},
   "outputs": [],
   "source": [
    "prompt = PromptTemplate(\n",
    "    input_variables=[\"document_text\"],\n",
    "    template=\"\"\"You are an expert in environmental, social, and governance (ESG) data extraction and reporting.\n",
    "\n",
    "            Your task is to carefully extract **all relevant ESG metrics** from the following report text. \n",
    "            These include, but are not limited to: emissions (Scopes 1, 2, 3), energy usage, water usage, waste, recycled materials, carbon footprint, renewable energy deployment, and any target/goal progression. \n",
    "            Please include all the data from previous years as well.\n",
    "\n",
    "            Please:\n",
    "\n",
    "            1. Structure the output as **valid JSON**.\n",
    "            2. Include **all available years** for each metric (not just the current year).\n",
    "            3. Make sure to take a look at and for **tables**. Some data may be in tabular format and structured as such.\n",
    "            4. Use **standardized ISO units** where possible (e.g., metric tons of CO2e, MWh, gallons, percentages). Convert if necessary.\n",
    "            5. Use **clear and consistent keys**, and group metrics by category such as \"Emissions\", \"Energy\", \"Water\", \"Materials\", \"Waste\", etc.\n",
    "            6. Omit interpretation — just provide structured data as precisely as stated in the document.\n",
    "\n",
    "            Here is the report text:\n",
    "\n",
    "            --- START OF REPORT TEXT ---\n",
    "\n",
    "            {document_text}\n",
    "\n",
    "            --- END OF REPORT TEXT ---\n",
    "\n",
    "            Ensure the output is JSON-serializable and can be parsed using json.loads() in Python:\n",
    "            Make sure to include to include the company name and ticker in the output JSON.\n",
    "            The company name is Apple Inc. and the ticker is AAPL.\n",
    "            Please provide the output in the following format where the hierachy is \"Category > Subcategory > Year > Metric and value\" like the following:\n",
    "\n",
    "            \"DesignAndMaterials\":{{\n",
    "                \"RecycledGoldIncrease\": {{\n",
    "                    \"2021\": {{\n",
    "                        \"value\": 1,\n",
    "                        \"unit\": \"%\"\n",
    "                    }},\n",
    "                }}\n",
    "            }}\n",
    "\n",
    "            Output Requirements:\n",
    "            - Use matching brackets ({{}}, [ ]).\n",
    "            - Do not include trailing commas before closing brackets or braces.\n",
    "            - All keys must be quoted like this: \"key\": value.\n",
    "            - Use objects ({{}}) for key-value pairs.\n",
    "            - Output only raw JSON — no comments or explanation.\n",
    "\n",
    "            Use this format to structure the response:\n",
    "            {{ \n",
    "            \"example\": [1, 2, 3] \n",
    "            }}\n",
    "\n",
    "            Now return the extracted ESG metrics in valid JSON format:\n",
    "        \n",
    "            \"\"\"\n",
    ")"
   ]
  },
  {
   "cell_type": "markdown",
   "id": "0ab3ca07",
   "metadata": {},
   "source": [
    "### 1.4 Response Retrieval\n",
    "\n",
    "This is the model definition as per the Google API. For this you will require an API Key that you can get [here](https://aistudio.google.com/apikey).    \n",
    "The model will output a class called _GenerateContentResponse_ that contains metadata and the actually text at output.text.\n",
    "\n",
    "Since its output is json it will output a markdown format preceded by \\`\\`\\`json and succeded by \\`\\`\\` which we filter out.\n",
    "\n",
    "The rest is then in nice json format that we use for our metric. This will be done in a different document though. \n"
   ]
  },
  {
   "cell_type": "code",
   "execution_count": 5,
   "id": "c9fa9257",
   "metadata": {},
   "outputs": [],
   "source": [
    "client = genai.Client(api_key=os.environ[\"GEMINI_API_KEY\"])"
   ]
  },
  {
   "cell_type": "code",
   "execution_count": 6,
   "id": "8b861c9b",
   "metadata": {},
   "outputs": [],
   "source": [
    "json_response = client.models.generate_content(\n",
    "    model=\"gemini-2.0-flash\",\n",
    "    contents=prompt.format(document_text=pdf_text),\n",
    ")\n",
    "output_text = json_response.text.replace(\"```json\", \"\").replace(\"```\", \"\")\n"
   ]
  },
  {
   "cell_type": "markdown",
   "id": "c2034bfd",
   "metadata": {},
   "source": [
    "### 1.5 Saving the Data\n",
    "\n",
    "After we received the output text we need to make sure we can saved it to a json file, since this is the filetype we are going to be going with.\n",
    "For this we will be using _json5_ as a tolerant json laoder and _ast_ as our string to json converter."
   ]
  },
  {
   "cell_type": "code",
   "execution_count": 7,
   "id": "d1bb9a66",
   "metadata": {},
   "outputs": [],
   "source": [
    "import json5\n",
    "import json\n",
    "import ast\n",
    "clean_json_string = ast.literal_eval(f\"'''{output_text}'''\")\n",
    "parsed_json = json5.loads(clean_json_string)"
   ]
  },
  {
   "cell_type": "code",
   "execution_count": 8,
   "id": "22a85fc6",
   "metadata": {},
   "outputs": [],
   "source": [
    "with open(f\"../data/processed/ESG/{ticker_name}.json\", \"w\") as json_file:\n",
    "    json.dump(parsed_json, json_file, indent=4)"
   ]
  },
  {
   "cell_type": "markdown",
   "id": "6fd3f24a",
   "metadata": {},
   "source": [
    "## 2. Full Pipeline with Evaluation Metric\n",
    "\n",
    "For ease of viewing, the previous steps have been summarize in the _GeminiPipeline_ class that has all the key steps but also iterates through all the files and not just one. "
   ]
  },
  {
   "cell_type": "markdown",
   "id": "0b7a8ce9",
   "metadata": {},
   "source": [
    "## 2.1 Using all pdfs"
   ]
  },
  {
   "cell_type": "code",
   "execution_count": 9,
   "id": "8f6e6862",
   "metadata": {},
   "outputs": [],
   "source": [
    "from src.common.gemini_pipeline import GeminiPipeline\n",
    "import sys\n",
    "sys.path.append('..')\n"
   ]
  },
  {
   "cell_type": "code",
   "execution_count": 10,
   "id": "e0d0b26c",
   "metadata": {},
   "outputs": [],
   "source": [
    "pipeline = GeminiPipeline(prompt_template=prompt, source_path='../data/raw/ESG', target_path='../data/processed/ESG')"
   ]
  },
  {
   "cell_type": "code",
   "execution_count": 11,
   "id": "aec788d3",
   "metadata": {},
   "outputs": [
    {
     "name": "stderr",
     "output_type": "stream",
     "text": [
      "  0%|          | 0/9 [00:00<?, ?it/s]"
     ]
    },
    {
     "name": "stdout",
     "output_type": "stream",
     "text": [
      "../data/raw/ESG/GOOG.pdf\n",
      "Error: <string>:196 Unexpected \"\"\" at column 6\n",
      "Retrying...\n"
     ]
    },
    {
     "name": "stderr",
     "output_type": "stream",
     "text": [
      " 11%|█         | 1/9 [00:35<04:42, 35.33s/it]"
     ]
    },
    {
     "name": "stdout",
     "output_type": "stream",
     "text": [
      "../data/raw/ESG/Sustainability Statement 2024.pdf\n"
     ]
    },
    {
     "name": "stderr",
     "output_type": "stream",
     "text": [
      " 22%|██▏       | 2/9 [00:48<02:36, 22.35s/it]"
     ]
    },
    {
     "name": "stdout",
     "output_type": "stream",
     "text": [
      "../data/raw/ESG/.DS_Store\n",
      "../data/raw/ESG/AAPL.pdf\n"
     ]
    },
    {
     "name": "stderr",
     "output_type": "stream",
     "text": [
      " 44%|████▍     | 4/9 [01:01<01:02, 12.42s/it]"
     ]
    },
    {
     "name": "stdout",
     "output_type": "stream",
     "text": [
      "../data/raw/ESG/broadcom-2024-corporate-responsibility-final.pdf\n"
     ]
    },
    {
     "name": "stderr",
     "output_type": "stream",
     "text": [
      " 56%|█████▌    | 5/9 [01:22<01:00, 15.03s/it]"
     ]
    },
    {
     "name": "stdout",
     "output_type": "stream",
     "text": [
      "../data/raw/ESG/2024-sustainability-report-en.pdf\n"
     ]
    },
    {
     "name": "stderr",
     "output_type": "stream",
     "text": [
      " 67%|██████▋   | 6/9 [01:33<00:41, 13.91s/it]"
     ]
    },
    {
     "name": "stdout",
     "output_type": "stream",
     "text": [
      "../data/raw/ESG/NVDA.pdf\n"
     ]
    },
    {
     "name": "stderr",
     "output_type": "stream",
     "text": [
      " 78%|███████▊  | 7/9 [02:09<00:41, 20.62s/it]"
     ]
    },
    {
     "name": "stdout",
     "output_type": "stream",
     "text": [
      "../data/raw/ESG/sustainability-report-2024.pdf\n"
     ]
    },
    {
     "name": "stderr",
     "output_type": "stream",
     "text": [
      " 89%|████████▉ | 8/9 [02:18<00:16, 16.93s/it]"
     ]
    },
    {
     "name": "stdout",
     "output_type": "stream",
     "text": [
      "../data/raw/ESG/Microsoft-2024-Environmental-Sustainability-Report.pdf\n"
     ]
    },
    {
     "name": "stderr",
     "output_type": "stream",
     "text": [
      "100%|██████████| 9/9 [02:29<00:00, 16.65s/it]\n"
     ]
    }
   ],
   "source": [
    "pipeline.run()"
   ]
  },
  {
   "cell_type": "markdown",
   "id": "b3744fbd",
   "metadata": {},
   "source": [
    "## 2.2 Metric\n",
    "\n",
    "To compare the different Company reports we need to define a rubric to compare. For this you choose arbitrary metrics the following is just one example:    \n",
    "- For this we want to take into account the emissions performance, more specifcally how well a company does in decarbonizing its operations.   \n",
    "- The second aspect is they're effort of using renewables and clean energy. \n",
    "- The third aspect should touch on recycling efforts and the last aspect is their robustness in these policies.   "
   ]
  },
  {
   "cell_type": "markdown",
   "id": "ad91b8de",
   "metadata": {},
   "source": [
    "### 1. Emissions Performance\n",
    "**Goal:** Evaluate decarbonization effort and results.  \n",
    "**Inputs:**\n",
    "- Percent reduction in GHG emissions from a baseline year  \n",
    "- Carbon neutrality status or timeline  \n",
    "- Trend in total emissions (if percent reduction unavailable)\n",
    "\n",
    "**Scoring Criteria:**\n",
    "\n",
    "| Score | Description |\n",
    "|-------|-------------|\n",
    "| **5** | 60 percent or more emissions reduction or already carbon neutral |\n",
    "| **4** | 40–59 percent reduction and clear trajectory to carbon neutrality |\n",
    "| **3** | 20–39 percent reduction or mid-term carbon neutrality goal (e.g., 2035) |\n",
    "| **2** | Some reductions claimed but not quantified |\n",
    "| **1** | Emissions increasing or unclear trajectory |\n",
    "| **0** | No emissions data provided |\n",
    "\n",
    "### 2. Clean Energy Commitment\n",
    "**Goal:** Assess use of and commitment to renewable/carbon-free energy.  \n",
    "**Inputs:**\n",
    "- Percent renewable or carbon-free energy in operations or data centers  \n",
    "- 24/7 carbon-free energy (CFE) goals or equivalent  \n",
    "- Supplier clean energy initiatives\n",
    "\n",
    "**Scoring Criteria:**\n",
    "\n",
    "| Score | Description |\n",
    "|-------|-------------|\n",
    "| **5** | 100 percent renewable energy currently or achieved 24/7 CFE in key regions |\n",
    "| **4** | 80–99 percent renewable/CFE or strong 24/7 CFE roadmap |\n",
    "| **3** | 50–79 percent renewable or clear target by 2030 |\n",
    "| **2** | Some clean energy use with future intent |\n",
    "| **1** | Minimal renewable usage or weak targets |\n",
    "| **0** | No data |\n",
    "\n",
    "### 3. Circularity & Material Use\n",
    "**Goal:** Evaluate use of recycled/renewable materials and sustainable design.  \n",
    "**Inputs:**\n",
    "- Percent recycled content in products  \n",
    "- Percent plastic-free or recyclable packaging  \n",
    "- Design for repairability and product longevity\n",
    "\n",
    "**Scoring Criteria:**\n",
    "\n",
    "| Score | Description |\n",
    "|-------|-------------|\n",
    "| **5** | 75 percent or more recycled materials or 100 percent plastic-free packaging |\n",
    "| **4** | 50–74 percent recycled materials or major product lines plastic-free |\n",
    "| **3** | Moderate recycled content and/or some repairability features |\n",
    "| **2** | Minimal recycling efforts, vague goals |\n",
    "| **1** | Occasional mentions without targets or progress |\n",
    "| **0** | No relevant data |\n",
    "\n",
    "### 4. ESG Governance & Supply Chain Engagement\n",
    "**Goal:** Measure maturity of ESG policy, certifications, and supplier practices.  \n",
    "**Inputs:**\n",
    "- Supplier audits and sustainability criteria  \n",
    "- ESG integration in board, code of conduct, or strategy  \n",
    "- Reporting (e.g., TCFD, SASB, ISO certifications)\n",
    "\n",
    "**Scoring Criteria:**\n",
    "\n",
    "| Score | Description |\n",
    "|-------|-------------|\n",
    "| **5** | Strong supplier requirements, verified audits, and third-party certifications |\n",
    "| **4** | Supplier engagement plus ESG board integration or public policy commitments |\n",
    "| **3** | Some supplier metrics or ESG frameworks used |\n",
    "| **2** | Mentions of governance, but no metrics or enforcement |\n",
    "| **1** | Weak or indirect references |\n",
    "| **0** | No ESG governance data |\n"
   ]
  },
  {
   "cell_type": "markdown",
   "id": "56045561",
   "metadata": {},
   "source": [
    "## 2.3 LLM approach:"
   ]
  },
  {
   "cell_type": "code",
   "execution_count": 12,
   "id": "892eec04",
   "metadata": {},
   "outputs": [],
   "source": [
    "prompt_metric = PromptTemplate(input_variables=[\"document_text\"],\n",
    "                template= \"\"\" \n",
    "                You are an ESG Score Evaluator.\n",
    "                Your task is to evaluate the ESG score of a company based on the extracted ESG metrics from the following report text.\n",
    "                \n",
    "                The rubric for the evaluation is as follows:\n",
    "\n",
    "                1. Emissions Performance\n",
    "                Goal: Evaluate decarbonization effort and results.\n",
    "                Inputs:\n",
    "                    - Percent reduction in GHG emissions from a baseline year\n",
    "                    - Carbon neutrality status or timeline\n",
    "                    - Trend in total emissions (if percent reduction unavailable)\n",
    "                Scoring:\n",
    "                    5 = 60 percent or more emissions reduction or already carbon neutral\n",
    "                    4 = 40–59 percent reduction and clear trajectory to carbon neutrality\n",
    "                    3 = 20–39 percent reduction or mid-term carbon neutrality goal (e.g., 2035)\n",
    "                    2 = Some reductions claimed but not quantified\n",
    "                    1 = Emissions increasing or unclear trajectory\n",
    "                    0 = No emissions data provided\n",
    "\n",
    "                2. Clean Energy Commitment\n",
    "                Goal: Assess use of and commitment to renewable/carbon-free energy.\n",
    "                Inputs:\n",
    "                    - Percent renewable or carbon-free energy in operations or data centers\n",
    "                    - 24/7 carbon-free energy (CFE) goals or equivalent\n",
    "                    - Supplier clean energy initiatives\n",
    "                Scoring:\n",
    "                    5 = 100 percent renewable energy currently or achieved 24/7 CFE in key regions\n",
    "                    4 = 80–99 percent renewable/CFE or strong 24/7 CFE roadmap\n",
    "                    3 = 50–79 percent renewable or clear target by 2030\n",
    "                    2 = Some clean energy use with future intent\n",
    "                    1 = Minimal renewable usage or weak targets\n",
    "                    0 = No data\n",
    "\n",
    "                3. Circularity & Material Use\n",
    "                Goal: Evaluate use of recycled/renewable materials and sustainable design.\n",
    "                Inputs:\n",
    "                    - Percent recycled content in products\n",
    "                    - Percent plastic-free or recyclable packaging\n",
    "                    - Design for repairability and product longevity\n",
    "                Scoring:\n",
    "                    5 = 75 percent or more recycled materials or 100 percent plastic-free packaging\n",
    "                    4 = 50–74 percent recycled materials or major product lines plastic-free\n",
    "                    3 = Moderate recycled content and/or some repairability features\n",
    "                    2 = Minimal recycling efforts, vague goals\n",
    "                    1 = Occasional mentions without targets or progress\n",
    "                    0 = No relevant data\n",
    "\n",
    "                4. ESG Governance & Supply Chain Engagement\n",
    "                Goal: Measure maturity of ESG policy, certifications, and supplier practices.\n",
    "                Inputs:\n",
    "                    - Supplier audits and sustainability criteria\n",
    "                    - ESG integration in board, code of conduct, or strategy\n",
    "                    - Reporting (e.g., TCFD, SASB, ISO certifications)\n",
    "                Scoring:\n",
    "                    5 = Strong supplier requirements, verified audits, and third-party certifications\n",
    "                    4 = Supplier engagement plus ESG board integration or public policy commitments\n",
    "                    3 = Some supplier metrics or ESG frameworks used\n",
    "                    2 = Mentions of governance, but no metrics or enforcement\n",
    "                    1 = Weak or indirect references\n",
    "                    0 = No ESG governance data\n",
    "\n",
    "                Please return me the ESG score of the company based on the above rubric in valid JSON format with the following keys:\n",
    "                [Company,EmissionsPerformance, CleanEnergy, Recycling, Robustness]\n",
    "\n",
    "                Here is the report text:\n",
    "                --- START OF REPORT TEXT ---\n",
    "\n",
    "                {document_text}\n",
    "\n",
    "                --- END OF REPORT TEXT ---\n",
    "                \"\"\"\n",
    "                )\n"
   ]
  },
  {
   "cell_type": "code",
   "execution_count": 13,
   "id": "63a8b4f0",
   "metadata": {},
   "outputs": [],
   "source": [
    "files = os.listdir('../data/processed/ESG')\n",
    "\n",
    "output = []\n",
    "\n",
    "for file in files:\n",
    "    with open(f'../data/processed/ESG/{file}', 'r') as f:\n",
    "        json_data = f.read()\n",
    "\n",
    "    metric = pipeline.retrieve(prompt=prompt_metric.format(document_text=json_data))\n",
    "    output.append(metric)"
   ]
  },
  {
   "cell_type": "code",
   "execution_count": null,
   "id": "0644bc80",
   "metadata": {},
   "outputs": [],
   "source": [
    "### Post-processing the output\n",
    "metrics_text = [metric.text.replace(\"```json\", \"\").replace(\"```\", \"\") for metric in output]\n",
    "metrics_text = [ast.literal_eval(f\"'''{text}'''\") for text in metrics_text]\n",
    "metrics_text = [json5.loads(text) for text in metrics_text]"
   ]
  },
  {
   "cell_type": "markdown",
   "id": "5771cdfd",
   "metadata": {},
   "source": [
    "### Plot: "
   ]
  },
  {
   "cell_type": "code",
   "execution_count": 17,
   "id": "ad9d067e",
   "metadata": {},
   "outputs": [
    {
     "data": {
      "image/png": "[encoded data removed]",
      "text/plain": [
       "<Figure size 1000x600 with 1 Axes>"
      ]
     },
     "metadata": {},
     "output_type": "display_data"
    }
   ],
   "source": [
    "from src.utils.utils import plot_ESG_metric\n",
    "plot_ESG_metric(metrics_text)"
   ]
  }
 ],
 "metadata": {
  "kernelspec": {
   "display_name": ".venv",
   "language": "python",
   "name": "python3"
  },
  "language_info": {
   "codemirror_mode": {
    "name": "ipython",
    "version": 3
   },
   "file_extension": ".py",
   "mimetype": "text/x-python",
   "name": "python",
   "nbconvert_exporter": "python",
   "pygments_lexer": "ipython3",
   "version": "3.12.9"
  }
 },
 "nbformat": 4,
 "nbformat_minor": 5
}
